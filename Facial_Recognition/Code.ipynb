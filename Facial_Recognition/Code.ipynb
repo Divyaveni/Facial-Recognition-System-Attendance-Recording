{
 "cells": [
  {
   "cell_type": "code",
   "execution_count": 1,
   "metadata": {},
   "outputs": [],
   "source": [
    "import cv2\n",
    "import numpy as np\n",
    "import face_recognition\n",
    "from datetime import datetime\n",
    "import os\n",
    "from tkinter import messagebox\n"
   ]
  },
  {
   "cell_type": "code",
   "execution_count": 2,
   "metadata": {},
   "outputs": [
    {
     "name": "stdout",
     "output_type": "stream",
     "text": [
      "Encoding is done\n"
     ]
    }
   ],
   "source": [
    "path = \"images\"\n",
    "img = []\n",
    "Names = []\n",
    "myList = os.listdir(path)\n",
    "for cls in myList:\n",
    "    image = cv2.imread(f'{path}/{cls}')\n",
    "    img.append(image)\n",
    "    Names.append(os.path.splitext(cls)[0])\n",
    "\n",
    "\n",
    "def find_encodings(img):\n",
    "    encode_List = []\n",
    "    for im in img:\n",
    "        im = cv2.cvtColor(im, cv2.COLOR_BGR2RGB)\n",
    "        encode_img = face_recognition.face_encodings(im)[0]\n",
    "        encode_List.append(encode_img)\n",
    "    return encode_List\n",
    "\n",
    "\n",
    "encoding_known_faces = find_encodings(img)\n",
    "print('Encoding is done')\n"
   ]
  },
  {
   "cell_type": "code",
   "execution_count": 3,
   "metadata": {},
   "outputs": [],
   "source": [
    "def attendance(person_name):\n",
    "    with open('Attendance.csv', 'r+') as f:\n",
    "        data_list = f.readlines()\n",
    "        Name_list = []\n",
    "        for line in data_list:\n",
    "            find_entry = line.split(',')\n",
    "            Name_list.append(find_entry[0])\n",
    "        if person_name not in Name_list:\n",
    "            present = datetime.now()\n",
    "            date = present.strftime('%H:%M:%S')\n",
    "            f.writelines(f'\\n{person_name},{date}')\n"
   ]
  },
  {
   "cell_type": "code",
   "execution_count": 4,
   "metadata": {},
   "outputs": [
    {
     "data": {
      "text/plain": [
       "'ok'"
      ]
     },
     "execution_count": 4,
     "metadata": {},
     "output_type": "execute_result"
    }
   ],
   "source": [
    "#Finding face matches using webcam\n",
    "capture = cv2.VideoCapture(0)\n",
    "\n",
    "record = True\n",
    "\n",
    "while record:\n",
    "    success, im = capture.read()\n",
    "    im_resize = cv2.resize(im,(0,0),None,0.25,0.25)\n",
    "    im_resize=cv2.cvtColor(im_resize,cv2.COLOR_BGR2RGB)\n",
    "    \n",
    "    \n",
    "    #finding the face locations in current frame\n",
    "    face = face_recognition.face_locations(im_resize)\n",
    "    encode_current_face = face_recognition.face_encodings(im_resize,face)\n",
    "     \n",
    "     #grabbing one face location from current face list and grabbing encode_face from encode_current_face\n",
    "    for encode_face,face_loc in zip(encode_current_face,face):\n",
    "        #matching/comparing faces\n",
    "        face_match = face_recognition.compare_faces(encoding_known_faces,encode_face)\n",
    "        #finding face distance \n",
    "        face_distance = face_recognition.face_distance(encoding_known_faces,encode_face)\n",
    "        #print(face_distance)\n",
    "        # lowest distance image is best match\n",
    "        face_match_index = np.argmin(face_distance)\n",
    "\n",
    "        #Displaying rectangle bos around face and writing the person name\n",
    "        if face_match[face_match_index]:\n",
    "            person_name = Names[face_match_index].upper()\n",
    "            #print(person_name)\n",
    "            y1,x2,y2,x1 = face_loc\n",
    "            y1,x2,y2,x1 = y1*4,x2*4,y2*4,x1*4\n",
    "            cv2.rectangle(im,(x1,y1),(x2,y2),(0,255,0),2)\n",
    "            cv2.rectangle(im,(x1,y2-35),(x2,y2),(0,255,0),cv2.FILLED)\n",
    "            cv2.putText(im,person_name,(x1+6,y2-6),cv2.FONT_HERSHEY_TRIPLEX,1,(255,0,0),2)\n",
    "            \n",
    "            attendance(person_name)\n",
    "\n",
    "            record = False\n",
    "            capture.release()\n",
    "            cv2.destroyAllWindows()\n",
    "\n",
    "    if record:\n",
    "        cv2.imshow('web_Cam',im)\n",
    "        if cv2.waitKey(1) & 0xFF == ord('q'):\n",
    "            record = False\n",
    "            capture.release()\n",
    "            cv2.destroyAllWindows()\n",
    "    else:\n",
    "        break\n",
    "\n",
    "messagebox.showinfo(\"Attendance\", \"Attendance Successful\")"
   ]
  }
 ],
 "metadata": {
  "interpreter": {
   "hash": "62668903a368e1660390f327554afaede0fc53631bf37f4a922800bebcfdc149"
  },
  "kernelspec": {
   "display_name": "Python 3.9.6 64-bit",
   "language": "python",
   "name": "python3"
  },
  "language_info": {
   "codemirror_mode": {
    "name": "ipython",
    "version": 3
   },
   "file_extension": ".py",
   "mimetype": "text/x-python",
   "name": "python",
   "nbconvert_exporter": "python",
   "pygments_lexer": "ipython3",
   "version": "3.9.6"
  },
  "orig_nbformat": 4
 },
 "nbformat": 4,
 "nbformat_minor": 2
}
